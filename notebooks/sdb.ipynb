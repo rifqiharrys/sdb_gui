{
 "cells": [
  {
   "cell_type": "markdown",
   "id": "b37a5a62-4fd6-4876-b8da-f0c2e07185c3",
   "metadata": {
    "tags": []
   },
   "source": [
    "# Satellite Derived Bathymetry\n",
    "## Import modules/libraries"
   ]
  },
  {
   "cell_type": "markdown",
   "id": "f379f5cd-7f92-4872-9929-21031658f061",
   "metadata": {},
   "source": [
    "Import `Rasterio` and `GeoPandas` as GeoTIFF and ESRI Shapefile reader."
   ]
  },
  {
   "cell_type": "code",
   "execution_count": 1,
   "id": "caf208f3-4d7b-47a8-967d-2d94c8e86b96",
   "metadata": {},
   "outputs": [],
   "source": [
    "import geopandas as gpd\n",
    "import rasterio as rio"
   ]
  },
  {
   "cell_type": "markdown",
   "id": "8e515b12-8677-4801-9915-f388a1e722a1",
   "metadata": {},
   "source": [
    "Import `Numpy` and `ndimage` from `Scipy`."
   ]
  },
  {
   "cell_type": "code",
   "execution_count": 2,
   "id": "5a47aa31-841c-4b4f-bf49-aeba5f137a56",
   "metadata": {},
   "outputs": [],
   "source": [
    "import numpy as np\n",
    "import pandas as pd\n",
    "from scipy import ndimage"
   ]
  },
  {
   "cell_type": "markdown",
   "id": "95e4b63b-ea54-4f64-b606-d7ef5f818da1",
   "metadata": {},
   "source": [
    "Import machine learning tools from `Scikit Learn`."
   ]
  },
  {
   "cell_type": "code",
   "execution_count": 3,
   "id": "b6423ffe-bbe4-4c57-b6a7-29219501b724",
   "metadata": {},
   "outputs": [],
   "source": [
    "from joblib import parallel_backend\n",
    "from sklearn import metrics\n",
    "from sklearn.model_selection import train_test_split\n",
    "from sklearn.ensemble import RandomForestRegressor"
   ]
  },
  {
   "cell_type": "markdown",
   "id": "7a6f0937-4bc9-4b59-a816-eb67d9361c25",
   "metadata": {},
   "source": [
    "Import `os` module for file path related function"
   ]
  },
  {
   "cell_type": "code",
   "execution_count": 4,
   "id": "f593dc45-0ef7-4c01-8fd8-ecaa26826e9c",
   "metadata": {},
   "outputs": [],
   "source": [
    "import os"
   ]
  },
  {
   "cell_type": "markdown",
   "id": "2213da44",
   "metadata": {},
   "source": [
    "Import `pyplot` from `matpplotlib` to generate scatter plot from the results"
   ]
  },
  {
   "cell_type": "code",
   "execution_count": 5,
   "id": "82d9f50f",
   "metadata": {},
   "outputs": [],
   "source": [
    "import matplotlib.pyplot as plt"
   ]
  },
  {
   "cell_type": "markdown",
   "id": "41b1ef33-994a-49c7-89e6-1c0ab6023e03",
   "metadata": {},
   "source": [
    "## Initiate variables consist of file locations and processing settings"
   ]
  },
  {
   "cell_type": "markdown",
   "id": "70edbea2-5628-4477-819d-8a5a5a796da2",
   "metadata": {},
   "source": [
    "Insert input and output file locations."
   ]
  },
  {
   "cell_type": "code",
   "execution_count": 6,
   "id": "95d7ff77-3703-42ad-bb33-0eabbb9b2495",
   "metadata": {},
   "outputs": [],
   "source": [
    "img_loc = 'data/image.tif'\n",
    "new_img_loc = 'data/depth_prediction.tif'\n",
    "shp_loc = 'data/depth_sample.shp'"
   ]
  },
  {
   "cell_type": "markdown",
   "id": "d6f85720-45d4-4083-b795-0c87ab7bf250",
   "metadata": {},
   "source": [
    "Input file values and processing settings and using negative sign in depth values."
   ]
  },
  {
   "cell_type": "code",
   "execution_count": 7,
   "id": "48e9852a-061b-44db-89d6-085ee21a7f5c",
   "metadata": {},
   "outputs": [],
   "source": [
    "depth_col_name = 'Z_Koreksi' # depth column name of shapefile sample data\n",
    "depth_limit_a = 0 # depth upper limit\n",
    "depth_limit_b = -15 # depth bottom limit \n",
    "train_size = 0.75 # 75% train size\n",
    "random_state= 2\n",
    "val_if_nan = -999.0\n",
    "n_tree = 300 # number of tree in Random Forest\n",
    "n_jobs = -2 # number of core processing. -2 means that it will use all core except 2\n",
    "median_filter_size = 3 # median filter cell size (use odd number)"
   ]
  },
  {
   "cell_type": "markdown",
   "id": "68749025-c492-4de2-9051-bc0c30b14921",
   "metadata": {},
   "source": [
    "## Open image data and depth samples"
   ]
  },
  {
   "cell_type": "markdown",
   "id": "9e2fa29b-8ed4-4f18-be85-99326a020f05",
   "metadata": {},
   "source": [
    "Open image using `Rasterio`, showing its arrays and Coordinate Reference System (CRS)."
   ]
  },
  {
   "cell_type": "code",
   "execution_count": 8,
   "id": "d6e7abfc-7089-4852-84d1-000b0ecc6e15",
   "metadata": {},
   "outputs": [
    {
     "name": "stdout",
     "output_type": "stream",
     "text": [
      "img size\n",
      " (192, 344) \n",
      "\n",
      " EPSG:32748\n"
     ]
    }
   ],
   "source": [
    "img = rio.open(img_loc)\n",
    "print('img size\\n', img.shape, '\\n\\n', img.crs)"
   ]
  },
  {
   "cell_type": "markdown",
   "id": "9ca7d400-ca04-4742-b89a-23ecf941592c",
   "metadata": {},
   "source": [
    "Rearrange image array into n column array based on number of bands."
   ]
  },
  {
   "cell_type": "code",
   "execution_count": 9,
   "id": "3eb89c24-a4d9-42f4-ba42-4c117587e80d",
   "metadata": {},
   "outputs": [
    {
     "name": "stdout",
     "output_type": "stream",
     "text": [
      "bands_array size\n",
      " (66048, 4)\n"
     ]
    }
   ],
   "source": [
    "nbands = len(img.indexes)\n",
    "ndata = img.read(1).size\n",
    "bands_dummy = np.empty((nbands, ndata))\n",
    "\n",
    "for i in img.indexes:\n",
    "    bands_dummy[i - 1, :] = np.ravel(img.read(i))\n",
    "\n",
    "bands_array = bands_dummy.T\n",
    "print('bands_array size\\n', bands_array.shape)"
   ]
  },
  {
   "cell_type": "markdown",
   "id": "e7c0fc00-7abf-4269-a137-d3149a57b953",
   "metadata": {},
   "source": [
    "Opening depth sample using Geopandas."
   ]
  },
  {
   "cell_type": "code",
   "execution_count": 10,
   "id": "75d558a0-4665-4890-9b41-c01d074a2fd7",
   "metadata": {},
   "outputs": [
    {
     "data": {
      "text/html": [
       "<div>\n",
       "<style scoped>\n",
       "    .dataframe tbody tr th:only-of-type {\n",
       "        vertical-align: middle;\n",
       "    }\n",
       "\n",
       "    .dataframe tbody tr th {\n",
       "        vertical-align: top;\n",
       "    }\n",
       "\n",
       "    .dataframe thead th {\n",
       "        text-align: right;\n",
       "    }\n",
       "</style>\n",
       "<table border=\"1\" class=\"dataframe\">\n",
       "  <thead>\n",
       "    <tr style=\"text-align: right;\">\n",
       "      <th></th>\n",
       "      <th>X</th>\n",
       "      <th>Y</th>\n",
       "      <th>Z_Koreksi</th>\n",
       "      <th>geometry</th>\n",
       "    </tr>\n",
       "  </thead>\n",
       "  <tbody>\n",
       "    <tr>\n",
       "      <th>0</th>\n",
       "      <td>673089.824</td>\n",
       "      <td>9371020.537</td>\n",
       "      <td>10.644119</td>\n",
       "      <td>POINT Z (673089.824 9371020.537 10.644)</td>\n",
       "    </tr>\n",
       "    <tr>\n",
       "      <th>1</th>\n",
       "      <td>673090.677</td>\n",
       "      <td>9371020.627</td>\n",
       "      <td>10.654119</td>\n",
       "      <td>POINT Z (673090.677 9371020.627 10.654)</td>\n",
       "    </tr>\n",
       "    <tr>\n",
       "      <th>2</th>\n",
       "      <td>673088.900</td>\n",
       "      <td>9371020.741</td>\n",
       "      <td>10.684119</td>\n",
       "      <td>POINT Z (673088.900 9371020.741 10.684)</td>\n",
       "    </tr>\n",
       "    <tr>\n",
       "      <th>3</th>\n",
       "      <td>673091.478</td>\n",
       "      <td>9371020.835</td>\n",
       "      <td>10.314119</td>\n",
       "      <td>POINT Z (673091.478 9371020.835 10.314)</td>\n",
       "    </tr>\n",
       "    <tr>\n",
       "      <th>4</th>\n",
       "      <td>673092.281</td>\n",
       "      <td>9371021.078</td>\n",
       "      <td>8.904119</td>\n",
       "      <td>POINT Z (673092.281 9371021.078 8.904)</td>\n",
       "    </tr>\n",
       "    <tr>\n",
       "      <th>...</th>\n",
       "      <td>...</td>\n",
       "      <td>...</td>\n",
       "      <td>...</td>\n",
       "      <td>...</td>\n",
       "    </tr>\n",
       "    <tr>\n",
       "      <th>4629</th>\n",
       "      <td>673371.323</td>\n",
       "      <td>9371449.837</td>\n",
       "      <td>1.806161</td>\n",
       "      <td>POINT Z (673371.323 9371449.837 1.806)</td>\n",
       "    </tr>\n",
       "    <tr>\n",
       "      <th>4630</th>\n",
       "      <td>673368.173</td>\n",
       "      <td>9371449.948</td>\n",
       "      <td>1.606161</td>\n",
       "      <td>POINT Z (673368.173 9371449.948 1.606)</td>\n",
       "    </tr>\n",
       "    <tr>\n",
       "      <th>4631</th>\n",
       "      <td>673370.582</td>\n",
       "      <td>9371450.079</td>\n",
       "      <td>1.766161</td>\n",
       "      <td>POINT Z (673370.582 9371450.079 1.766)</td>\n",
       "    </tr>\n",
       "    <tr>\n",
       "      <th>4632</th>\n",
       "      <td>673368.959</td>\n",
       "      <td>9371450.110</td>\n",
       "      <td>1.666161</td>\n",
       "      <td>POINT Z (673368.959 9371450.110 1.666)</td>\n",
       "    </tr>\n",
       "    <tr>\n",
       "      <th>4633</th>\n",
       "      <td>673369.793</td>\n",
       "      <td>9371450.177</td>\n",
       "      <td>1.766161</td>\n",
       "      <td>POINT Z (673369.793 9371450.177 1.766)</td>\n",
       "    </tr>\n",
       "  </tbody>\n",
       "</table>\n",
       "<p>4634 rows × 4 columns</p>\n",
       "</div>"
      ],
      "text/plain": [
       "               X            Y  Z_Koreksi  \\\n",
       "0     673089.824  9371020.537  10.644119   \n",
       "1     673090.677  9371020.627  10.654119   \n",
       "2     673088.900  9371020.741  10.684119   \n",
       "3     673091.478  9371020.835  10.314119   \n",
       "4     673092.281  9371021.078   8.904119   \n",
       "...          ...          ...        ...   \n",
       "4629  673371.323  9371449.837   1.806161   \n",
       "4630  673368.173  9371449.948   1.606161   \n",
       "4631  673370.582  9371450.079   1.766161   \n",
       "4632  673368.959  9371450.110   1.666161   \n",
       "4633  673369.793  9371450.177   1.766161   \n",
       "\n",
       "                                     geometry  \n",
       "0     POINT Z (673089.824 9371020.537 10.644)  \n",
       "1     POINT Z (673090.677 9371020.627 10.654)  \n",
       "2     POINT Z (673088.900 9371020.741 10.684)  \n",
       "3     POINT Z (673091.478 9371020.835 10.314)  \n",
       "4      POINT Z (673092.281 9371021.078 8.904)  \n",
       "...                                       ...  \n",
       "4629   POINT Z (673371.323 9371449.837 1.806)  \n",
       "4630   POINT Z (673368.173 9371449.948 1.606)  \n",
       "4631   POINT Z (673370.582 9371450.079 1.766)  \n",
       "4632   POINT Z (673368.959 9371450.110 1.666)  \n",
       "4633   POINT Z (673369.793 9371450.177 1.766)  \n",
       "\n",
       "[4634 rows x 4 columns]"
      ]
     },
     "execution_count": 10,
     "metadata": {},
     "output_type": "execute_result"
    }
   ],
   "source": [
    "shp = gpd.read_file(shp_loc)\n",
    "shp"
   ]
  },
  {
   "cell_type": "markdown",
   "id": "edb3e79d-21e5-4fbf-a751-fb72c83b6bb1",
   "metadata": {},
   "source": [
    "## Prepare input data until depth prediction using `Scikit Learn`"
   ]
  },
  {
   "cell_type": "markdown",
   "id": "c04a1ed8-8f02-494e-a5ec-1812f3c4af03",
   "metadata": {},
   "source": [
    "Check if both image and depth sample have the same CRS. If both have different CRS, reproject depth sample CRS to match image CRS."
   ]
  },
  {
   "cell_type": "code",
   "execution_count": 11,
   "id": "389ada11-da1a-424b-9754-40df2bac7714",
   "metadata": {},
   "outputs": [
    {
     "data": {
      "text/html": [
       "<div>\n",
       "<style scoped>\n",
       "    .dataframe tbody tr th:only-of-type {\n",
       "        vertical-align: middle;\n",
       "    }\n",
       "\n",
       "    .dataframe tbody tr th {\n",
       "        vertical-align: top;\n",
       "    }\n",
       "\n",
       "    .dataframe thead th {\n",
       "        text-align: right;\n",
       "    }\n",
       "</style>\n",
       "<table border=\"1\" class=\"dataframe\">\n",
       "  <thead>\n",
       "    <tr style=\"text-align: right;\">\n",
       "      <th></th>\n",
       "      <th>X</th>\n",
       "      <th>Y</th>\n",
       "      <th>Z_Koreksi</th>\n",
       "      <th>geometry</th>\n",
       "    </tr>\n",
       "  </thead>\n",
       "  <tbody>\n",
       "    <tr>\n",
       "      <th>0</th>\n",
       "      <td>673089.824</td>\n",
       "      <td>9371020.537</td>\n",
       "      <td>10.644119</td>\n",
       "      <td>POINT Z (673089.824 9371020.537 10.644)</td>\n",
       "    </tr>\n",
       "    <tr>\n",
       "      <th>1</th>\n",
       "      <td>673090.677</td>\n",
       "      <td>9371020.627</td>\n",
       "      <td>10.654119</td>\n",
       "      <td>POINT Z (673090.677 9371020.627 10.654)</td>\n",
       "    </tr>\n",
       "    <tr>\n",
       "      <th>2</th>\n",
       "      <td>673088.900</td>\n",
       "      <td>9371020.741</td>\n",
       "      <td>10.684119</td>\n",
       "      <td>POINT Z (673088.900 9371020.741 10.684)</td>\n",
       "    </tr>\n",
       "    <tr>\n",
       "      <th>3</th>\n",
       "      <td>673091.478</td>\n",
       "      <td>9371020.835</td>\n",
       "      <td>10.314119</td>\n",
       "      <td>POINT Z (673091.478 9371020.835 10.314)</td>\n",
       "    </tr>\n",
       "    <tr>\n",
       "      <th>4</th>\n",
       "      <td>673092.281</td>\n",
       "      <td>9371021.078</td>\n",
       "      <td>8.904119</td>\n",
       "      <td>POINT Z (673092.281 9371021.078 8.904)</td>\n",
       "    </tr>\n",
       "    <tr>\n",
       "      <th>...</th>\n",
       "      <td>...</td>\n",
       "      <td>...</td>\n",
       "      <td>...</td>\n",
       "      <td>...</td>\n",
       "    </tr>\n",
       "    <tr>\n",
       "      <th>4629</th>\n",
       "      <td>673371.323</td>\n",
       "      <td>9371449.837</td>\n",
       "      <td>1.806161</td>\n",
       "      <td>POINT Z (673371.323 9371449.837 1.806)</td>\n",
       "    </tr>\n",
       "    <tr>\n",
       "      <th>4630</th>\n",
       "      <td>673368.173</td>\n",
       "      <td>9371449.948</td>\n",
       "      <td>1.606161</td>\n",
       "      <td>POINT Z (673368.173 9371449.948 1.606)</td>\n",
       "    </tr>\n",
       "    <tr>\n",
       "      <th>4631</th>\n",
       "      <td>673370.582</td>\n",
       "      <td>9371450.079</td>\n",
       "      <td>1.766161</td>\n",
       "      <td>POINT Z (673370.582 9371450.079 1.766)</td>\n",
       "    </tr>\n",
       "    <tr>\n",
       "      <th>4632</th>\n",
       "      <td>673368.959</td>\n",
       "      <td>9371450.110</td>\n",
       "      <td>1.666161</td>\n",
       "      <td>POINT Z (673368.959 9371450.110 1.666)</td>\n",
       "    </tr>\n",
       "    <tr>\n",
       "      <th>4633</th>\n",
       "      <td>673369.793</td>\n",
       "      <td>9371450.177</td>\n",
       "      <td>1.766161</td>\n",
       "      <td>POINT Z (673369.793 9371450.177 1.766)</td>\n",
       "    </tr>\n",
       "  </tbody>\n",
       "</table>\n",
       "<p>4634 rows × 4 columns</p>\n",
       "</div>"
      ],
      "text/plain": [
       "               X            Y  Z_Koreksi  \\\n",
       "0     673089.824  9371020.537  10.644119   \n",
       "1     673090.677  9371020.627  10.654119   \n",
       "2     673088.900  9371020.741  10.684119   \n",
       "3     673091.478  9371020.835  10.314119   \n",
       "4     673092.281  9371021.078   8.904119   \n",
       "...          ...          ...        ...   \n",
       "4629  673371.323  9371449.837   1.806161   \n",
       "4630  673368.173  9371449.948   1.606161   \n",
       "4631  673370.582  9371450.079   1.766161   \n",
       "4632  673368.959  9371450.110   1.666161   \n",
       "4633  673369.793  9371450.177   1.766161   \n",
       "\n",
       "                                     geometry  \n",
       "0     POINT Z (673089.824 9371020.537 10.644)  \n",
       "1     POINT Z (673090.677 9371020.627 10.654)  \n",
       "2     POINT Z (673088.900 9371020.741 10.684)  \n",
       "3     POINT Z (673091.478 9371020.835 10.314)  \n",
       "4      POINT Z (673092.281 9371021.078 8.904)  \n",
       "...                                       ...  \n",
       "4629   POINT Z (673371.323 9371449.837 1.806)  \n",
       "4630   POINT Z (673368.173 9371449.948 1.606)  \n",
       "4631   POINT Z (673370.582 9371450.079 1.766)  \n",
       "4632   POINT Z (673368.959 9371450.110 1.666)  \n",
       "4633   POINT Z (673369.793 9371450.177 1.766)  \n",
       "\n",
       "[4634 rows x 4 columns]"
      ]
     },
     "execution_count": 11,
     "metadata": {},
     "output_type": "execute_result"
    }
   ],
   "source": [
    "img_crs = str(img.crs).upper()\n",
    "shp_crs = str(shp.crs).upper()\n",
    "\n",
    "if img_crs != shp_crs:\n",
    "    shp_reproj = shp.to_crs(img_crs)\n",
    "else:\n",
    "    shp_reproj = shp.copy()\n",
    "\n",
    "shp_reproj"
   ]
  },
  {
   "cell_type": "markdown",
   "id": "5a434236-2af6-4edc-82f8-48048f3e24ca",
   "metadata": {},
   "source": [
    "Check if there are any missing values in the image input and replace them with a number to avoid error in depth prediction"
   ]
  },
  {
   "cell_type": "code",
   "execution_count": 12,
   "id": "e45bacbf-7609-41a1-a6ad-1ba8a0dbb069",
   "metadata": {},
   "outputs": [],
   "source": [
    "bands_nan = np.isnan(bands_array)\n",
    "bands_array[bands_nan] = val_if_nan"
   ]
  },
  {
   "cell_type": "markdown",
   "id": "25493d49-39f4-4c7a-b831-b8766dc6340c",
   "metadata": {},
   "source": [
    "Assign shapefile coordinates into a variable for easier access and prepare empty list for image band names."
   ]
  },
  {
   "cell_type": "code",
   "execution_count": 13,
   "id": "643f6bff-05d8-45c0-8a8b-6983273fac84",
   "metadata": {},
   "outputs": [],
   "source": [
    "shp_geo = shp_reproj['geometry']\n",
    "col_names = []"
   ]
  },
  {
   "cell_type": "markdown",
   "id": "b3d7dde1-95d8-4931-8229-8e2eee665ff9",
   "metadata": {},
   "source": [
    "Features (raster values) sampling from all image bands and assign it into a data frame."
   ]
  },
  {
   "cell_type": "code",
   "execution_count": 14,
   "id": "f5703d7e-77ae-4ab0-8c3a-3dd0c11a4104",
   "metadata": {},
   "outputs": [
    {
     "data": {
      "text/html": [
       "<div>\n",
       "<style scoped>\n",
       "    .dataframe tbody tr th:only-of-type {\n",
       "        vertical-align: middle;\n",
       "    }\n",
       "\n",
       "    .dataframe tbody tr th {\n",
       "        vertical-align: top;\n",
       "    }\n",
       "\n",
       "    .dataframe thead th {\n",
       "        text-align: right;\n",
       "    }\n",
       "</style>\n",
       "<table border=\"1\" class=\"dataframe\">\n",
       "  <thead>\n",
       "    <tr style=\"text-align: right;\">\n",
       "      <th></th>\n",
       "      <th>band1</th>\n",
       "      <th>band2</th>\n",
       "      <th>band3</th>\n",
       "      <th>band4</th>\n",
       "      <th>x</th>\n",
       "      <th>y</th>\n",
       "      <th>z</th>\n",
       "    </tr>\n",
       "  </thead>\n",
       "  <tbody>\n",
       "    <tr>\n",
       "      <th>0</th>\n",
       "      <td>740.0</td>\n",
       "      <td>507.0</td>\n",
       "      <td>309.0</td>\n",
       "      <td>189.0</td>\n",
       "      <td>673089.824</td>\n",
       "      <td>9371020.537</td>\n",
       "      <td>10.644119</td>\n",
       "    </tr>\n",
       "    <tr>\n",
       "      <th>1</th>\n",
       "      <td>725.0</td>\n",
       "      <td>520.0</td>\n",
       "      <td>296.0</td>\n",
       "      <td>200.0</td>\n",
       "      <td>673090.677</td>\n",
       "      <td>9371020.627</td>\n",
       "      <td>10.654119</td>\n",
       "    </tr>\n",
       "    <tr>\n",
       "      <th>2</th>\n",
       "      <td>740.0</td>\n",
       "      <td>507.0</td>\n",
       "      <td>309.0</td>\n",
       "      <td>189.0</td>\n",
       "      <td>673088.900</td>\n",
       "      <td>9371020.741</td>\n",
       "      <td>10.684119</td>\n",
       "    </tr>\n",
       "    <tr>\n",
       "      <th>3</th>\n",
       "      <td>725.0</td>\n",
       "      <td>520.0</td>\n",
       "      <td>296.0</td>\n",
       "      <td>200.0</td>\n",
       "      <td>673091.478</td>\n",
       "      <td>9371020.835</td>\n",
       "      <td>10.314119</td>\n",
       "    </tr>\n",
       "    <tr>\n",
       "      <th>4</th>\n",
       "      <td>725.0</td>\n",
       "      <td>520.0</td>\n",
       "      <td>296.0</td>\n",
       "      <td>200.0</td>\n",
       "      <td>673092.281</td>\n",
       "      <td>9371021.078</td>\n",
       "      <td>8.904119</td>\n",
       "    </tr>\n",
       "    <tr>\n",
       "      <th>...</th>\n",
       "      <td>...</td>\n",
       "      <td>...</td>\n",
       "      <td>...</td>\n",
       "      <td>...</td>\n",
       "      <td>...</td>\n",
       "      <td>...</td>\n",
       "      <td>...</td>\n",
       "    </tr>\n",
       "    <tr>\n",
       "      <th>4629</th>\n",
       "      <td>1188.0</td>\n",
       "      <td>1213.0</td>\n",
       "      <td>635.0</td>\n",
       "      <td>189.0</td>\n",
       "      <td>673371.323</td>\n",
       "      <td>9371449.837</td>\n",
       "      <td>1.806161</td>\n",
       "    </tr>\n",
       "    <tr>\n",
       "      <th>4630</th>\n",
       "      <td>1188.0</td>\n",
       "      <td>1230.0</td>\n",
       "      <td>727.0</td>\n",
       "      <td>187.0</td>\n",
       "      <td>673368.173</td>\n",
       "      <td>9371449.948</td>\n",
       "      <td>1.606161</td>\n",
       "    </tr>\n",
       "    <tr>\n",
       "      <th>4631</th>\n",
       "      <td>1154.0</td>\n",
       "      <td>1141.0</td>\n",
       "      <td>578.0</td>\n",
       "      <td>173.0</td>\n",
       "      <td>673370.582</td>\n",
       "      <td>9371450.079</td>\n",
       "      <td>1.766161</td>\n",
       "    </tr>\n",
       "    <tr>\n",
       "      <th>4632</th>\n",
       "      <td>1203.0</td>\n",
       "      <td>1196.0</td>\n",
       "      <td>676.0</td>\n",
       "      <td>177.0</td>\n",
       "      <td>673368.959</td>\n",
       "      <td>9371450.110</td>\n",
       "      <td>1.666161</td>\n",
       "    </tr>\n",
       "    <tr>\n",
       "      <th>4633</th>\n",
       "      <td>1203.0</td>\n",
       "      <td>1196.0</td>\n",
       "      <td>676.0</td>\n",
       "      <td>177.0</td>\n",
       "      <td>673369.793</td>\n",
       "      <td>9371450.177</td>\n",
       "      <td>1.766161</td>\n",
       "    </tr>\n",
       "  </tbody>\n",
       "</table>\n",
       "<p>4634 rows × 7 columns</p>\n",
       "</div>"
      ],
      "text/plain": [
       "       band1   band2  band3  band4           x            y          z\n",
       "0      740.0   507.0  309.0  189.0  673089.824  9371020.537  10.644119\n",
       "1      725.0   520.0  296.0  200.0  673090.677  9371020.627  10.654119\n",
       "2      740.0   507.0  309.0  189.0  673088.900  9371020.741  10.684119\n",
       "3      725.0   520.0  296.0  200.0  673091.478  9371020.835  10.314119\n",
       "4      725.0   520.0  296.0  200.0  673092.281  9371021.078   8.904119\n",
       "...      ...     ...    ...    ...         ...          ...        ...\n",
       "4629  1188.0  1213.0  635.0  189.0  673371.323  9371449.837   1.806161\n",
       "4630  1188.0  1230.0  727.0  187.0  673368.173  9371449.948   1.606161\n",
       "4631  1154.0  1141.0  578.0  173.0  673370.582  9371450.079   1.766161\n",
       "4632  1203.0  1196.0  676.0  177.0  673368.959  9371450.110   1.666161\n",
       "4633  1203.0  1196.0  676.0  177.0  673369.793  9371450.177   1.766161\n",
       "\n",
       "[4634 rows x 7 columns]"
      ]
     },
     "execution_count": 14,
     "metadata": {},
     "output_type": "execute_result"
    }
   ],
   "source": [
    "row, col = np.array(img.index(shp_geo.x, shp_geo.y))\n",
    "sample_bands = img.read()[:, row, col].T\n",
    "\n",
    "for i in img.indexes:\n",
    "    col_names.append('band' + str(i))\n",
    "\n",
    "sample_bands_df = pd.DataFrame(sample_bands, columns=col_names)\n",
    "\n",
    "# Create x and y coordinate columns for research purpose output\n",
    "sample_bands_df['x'], sample_bands_df['y'] = shp_geo.x, shp_geo.y\n",
    "#############################\n",
    "\n",
    "sample_bands_df['z'] = shp_reproj[depth_col_name]\n",
    "sample_bands_df"
   ]
  },
  {
   "cell_type": "markdown",
   "id": "225e7a52-df9c-4a66-9b07-39fd528753c0",
   "metadata": {},
   "source": [
    "Remove any missing values from point sampling to avoid error in depth prediction"
   ]
  },
  {
   "cell_type": "code",
   "execution_count": 15,
   "id": "7e4bae01-0283-482b-9c5c-08cd4c3ad78d",
   "metadata": {
    "tags": []
   },
   "outputs": [],
   "source": [
    "sample_bands_df = sample_bands_df.dropna()"
   ]
  },
  {
   "cell_type": "markdown",
   "id": "07827dc1-8acd-46a2-822e-d61f9ce6204e",
   "metadata": {},
   "source": [
    "Auto negative depth values if more than half of depth is more than 0 (positive)"
   ]
  },
  {
   "cell_type": "code",
   "execution_count": 16,
   "id": "0874e885-77ce-4ad9-ad12-8204a2da1b49",
   "metadata": {},
   "outputs": [
    {
     "data": {
      "text/html": [
       "<div>\n",
       "<style scoped>\n",
       "    .dataframe tbody tr th:only-of-type {\n",
       "        vertical-align: middle;\n",
       "    }\n",
       "\n",
       "    .dataframe tbody tr th {\n",
       "        vertical-align: top;\n",
       "    }\n",
       "\n",
       "    .dataframe thead th {\n",
       "        text-align: right;\n",
       "    }\n",
       "</style>\n",
       "<table border=\"1\" class=\"dataframe\">\n",
       "  <thead>\n",
       "    <tr style=\"text-align: right;\">\n",
       "      <th></th>\n",
       "      <th>band1</th>\n",
       "      <th>band2</th>\n",
       "      <th>band3</th>\n",
       "      <th>band4</th>\n",
       "      <th>x</th>\n",
       "      <th>y</th>\n",
       "      <th>z</th>\n",
       "    </tr>\n",
       "  </thead>\n",
       "  <tbody>\n",
       "    <tr>\n",
       "      <th>0</th>\n",
       "      <td>740.0</td>\n",
       "      <td>507.0</td>\n",
       "      <td>309.0</td>\n",
       "      <td>189.0</td>\n",
       "      <td>673089.824</td>\n",
       "      <td>9371020.537</td>\n",
       "      <td>-10.644119</td>\n",
       "    </tr>\n",
       "    <tr>\n",
       "      <th>1</th>\n",
       "      <td>725.0</td>\n",
       "      <td>520.0</td>\n",
       "      <td>296.0</td>\n",
       "      <td>200.0</td>\n",
       "      <td>673090.677</td>\n",
       "      <td>9371020.627</td>\n",
       "      <td>-10.654119</td>\n",
       "    </tr>\n",
       "    <tr>\n",
       "      <th>2</th>\n",
       "      <td>740.0</td>\n",
       "      <td>507.0</td>\n",
       "      <td>309.0</td>\n",
       "      <td>189.0</td>\n",
       "      <td>673088.900</td>\n",
       "      <td>9371020.741</td>\n",
       "      <td>-10.684119</td>\n",
       "    </tr>\n",
       "    <tr>\n",
       "      <th>3</th>\n",
       "      <td>725.0</td>\n",
       "      <td>520.0</td>\n",
       "      <td>296.0</td>\n",
       "      <td>200.0</td>\n",
       "      <td>673091.478</td>\n",
       "      <td>9371020.835</td>\n",
       "      <td>-10.314119</td>\n",
       "    </tr>\n",
       "    <tr>\n",
       "      <th>4</th>\n",
       "      <td>725.0</td>\n",
       "      <td>520.0</td>\n",
       "      <td>296.0</td>\n",
       "      <td>200.0</td>\n",
       "      <td>673092.281</td>\n",
       "      <td>9371021.078</td>\n",
       "      <td>-8.904119</td>\n",
       "    </tr>\n",
       "    <tr>\n",
       "      <th>...</th>\n",
       "      <td>...</td>\n",
       "      <td>...</td>\n",
       "      <td>...</td>\n",
       "      <td>...</td>\n",
       "      <td>...</td>\n",
       "      <td>...</td>\n",
       "      <td>...</td>\n",
       "    </tr>\n",
       "    <tr>\n",
       "      <th>4629</th>\n",
       "      <td>1188.0</td>\n",
       "      <td>1213.0</td>\n",
       "      <td>635.0</td>\n",
       "      <td>189.0</td>\n",
       "      <td>673371.323</td>\n",
       "      <td>9371449.837</td>\n",
       "      <td>-1.806161</td>\n",
       "    </tr>\n",
       "    <tr>\n",
       "      <th>4630</th>\n",
       "      <td>1188.0</td>\n",
       "      <td>1230.0</td>\n",
       "      <td>727.0</td>\n",
       "      <td>187.0</td>\n",
       "      <td>673368.173</td>\n",
       "      <td>9371449.948</td>\n",
       "      <td>-1.606161</td>\n",
       "    </tr>\n",
       "    <tr>\n",
       "      <th>4631</th>\n",
       "      <td>1154.0</td>\n",
       "      <td>1141.0</td>\n",
       "      <td>578.0</td>\n",
       "      <td>173.0</td>\n",
       "      <td>673370.582</td>\n",
       "      <td>9371450.079</td>\n",
       "      <td>-1.766161</td>\n",
       "    </tr>\n",
       "    <tr>\n",
       "      <th>4632</th>\n",
       "      <td>1203.0</td>\n",
       "      <td>1196.0</td>\n",
       "      <td>676.0</td>\n",
       "      <td>177.0</td>\n",
       "      <td>673368.959</td>\n",
       "      <td>9371450.110</td>\n",
       "      <td>-1.666161</td>\n",
       "    </tr>\n",
       "    <tr>\n",
       "      <th>4633</th>\n",
       "      <td>1203.0</td>\n",
       "      <td>1196.0</td>\n",
       "      <td>676.0</td>\n",
       "      <td>177.0</td>\n",
       "      <td>673369.793</td>\n",
       "      <td>9371450.177</td>\n",
       "      <td>-1.766161</td>\n",
       "    </tr>\n",
       "  </tbody>\n",
       "</table>\n",
       "<p>4634 rows × 7 columns</p>\n",
       "</div>"
      ],
      "text/plain": [
       "       band1   band2  band3  band4           x            y          z\n",
       "0      740.0   507.0  309.0  189.0  673089.824  9371020.537 -10.644119\n",
       "1      725.0   520.0  296.0  200.0  673090.677  9371020.627 -10.654119\n",
       "2      740.0   507.0  309.0  189.0  673088.900  9371020.741 -10.684119\n",
       "3      725.0   520.0  296.0  200.0  673091.478  9371020.835 -10.314119\n",
       "4      725.0   520.0  296.0  200.0  673092.281  9371021.078  -8.904119\n",
       "...      ...     ...    ...    ...         ...          ...        ...\n",
       "4629  1188.0  1213.0  635.0  189.0  673371.323  9371449.837  -1.806161\n",
       "4630  1188.0  1230.0  727.0  187.0  673368.173  9371449.948  -1.606161\n",
       "4631  1154.0  1141.0  578.0  173.0  673370.582  9371450.079  -1.766161\n",
       "4632  1203.0  1196.0  676.0  177.0  673368.959  9371450.110  -1.666161\n",
       "4633  1203.0  1196.0  676.0  177.0  673369.793  9371450.177  -1.766161\n",
       "\n",
       "[4634 rows x 7 columns]"
      ]
     },
     "execution_count": 16,
     "metadata": {},
     "output_type": "execute_result"
    }
   ],
   "source": [
    "if np.median(sample_bands_df['z'] > 0):\n",
    "    sample_bands_df['z'] = sample_bands_df['z'] * -1\n",
    "    \n",
    "sample_bands_df"
   ]
  },
  {
   "cell_type": "markdown",
   "id": "043bc7e9-608a-4491-a37c-11eca4f3d14e",
   "metadata": {},
   "source": [
    "Depth limitation"
   ]
  },
  {
   "cell_type": "code",
   "execution_count": 17,
   "id": "b5f10674-e4bc-4c29-b75d-a35cbf84f784",
   "metadata": {},
   "outputs": [
    {
     "data": {
      "text/html": [
       "<div>\n",
       "<style scoped>\n",
       "    .dataframe tbody tr th:only-of-type {\n",
       "        vertical-align: middle;\n",
       "    }\n",
       "\n",
       "    .dataframe tbody tr th {\n",
       "        vertical-align: top;\n",
       "    }\n",
       "\n",
       "    .dataframe thead th {\n",
       "        text-align: right;\n",
       "    }\n",
       "</style>\n",
       "<table border=\"1\" class=\"dataframe\">\n",
       "  <thead>\n",
       "    <tr style=\"text-align: right;\">\n",
       "      <th></th>\n",
       "      <th>band1</th>\n",
       "      <th>band2</th>\n",
       "      <th>band3</th>\n",
       "      <th>band4</th>\n",
       "      <th>x</th>\n",
       "      <th>y</th>\n",
       "      <th>z</th>\n",
       "    </tr>\n",
       "  </thead>\n",
       "  <tbody>\n",
       "    <tr>\n",
       "      <th>0</th>\n",
       "      <td>740.0</td>\n",
       "      <td>507.0</td>\n",
       "      <td>309.0</td>\n",
       "      <td>189.0</td>\n",
       "      <td>673089.824</td>\n",
       "      <td>9371020.537</td>\n",
       "      <td>-10.644119</td>\n",
       "    </tr>\n",
       "    <tr>\n",
       "      <th>1</th>\n",
       "      <td>725.0</td>\n",
       "      <td>520.0</td>\n",
       "      <td>296.0</td>\n",
       "      <td>200.0</td>\n",
       "      <td>673090.677</td>\n",
       "      <td>9371020.627</td>\n",
       "      <td>-10.654119</td>\n",
       "    </tr>\n",
       "    <tr>\n",
       "      <th>2</th>\n",
       "      <td>740.0</td>\n",
       "      <td>507.0</td>\n",
       "      <td>309.0</td>\n",
       "      <td>189.0</td>\n",
       "      <td>673088.900</td>\n",
       "      <td>9371020.741</td>\n",
       "      <td>-10.684119</td>\n",
       "    </tr>\n",
       "    <tr>\n",
       "      <th>3</th>\n",
       "      <td>725.0</td>\n",
       "      <td>520.0</td>\n",
       "      <td>296.0</td>\n",
       "      <td>200.0</td>\n",
       "      <td>673091.478</td>\n",
       "      <td>9371020.835</td>\n",
       "      <td>-10.314119</td>\n",
       "    </tr>\n",
       "    <tr>\n",
       "      <th>4</th>\n",
       "      <td>725.0</td>\n",
       "      <td>520.0</td>\n",
       "      <td>296.0</td>\n",
       "      <td>200.0</td>\n",
       "      <td>673092.281</td>\n",
       "      <td>9371021.078</td>\n",
       "      <td>-8.904119</td>\n",
       "    </tr>\n",
       "    <tr>\n",
       "      <th>...</th>\n",
       "      <td>...</td>\n",
       "      <td>...</td>\n",
       "      <td>...</td>\n",
       "      <td>...</td>\n",
       "      <td>...</td>\n",
       "      <td>...</td>\n",
       "      <td>...</td>\n",
       "    </tr>\n",
       "    <tr>\n",
       "      <th>4629</th>\n",
       "      <td>1188.0</td>\n",
       "      <td>1213.0</td>\n",
       "      <td>635.0</td>\n",
       "      <td>189.0</td>\n",
       "      <td>673371.323</td>\n",
       "      <td>9371449.837</td>\n",
       "      <td>-1.806161</td>\n",
       "    </tr>\n",
       "    <tr>\n",
       "      <th>4630</th>\n",
       "      <td>1188.0</td>\n",
       "      <td>1230.0</td>\n",
       "      <td>727.0</td>\n",
       "      <td>187.0</td>\n",
       "      <td>673368.173</td>\n",
       "      <td>9371449.948</td>\n",
       "      <td>-1.606161</td>\n",
       "    </tr>\n",
       "    <tr>\n",
       "      <th>4631</th>\n",
       "      <td>1154.0</td>\n",
       "      <td>1141.0</td>\n",
       "      <td>578.0</td>\n",
       "      <td>173.0</td>\n",
       "      <td>673370.582</td>\n",
       "      <td>9371450.079</td>\n",
       "      <td>-1.766161</td>\n",
       "    </tr>\n",
       "    <tr>\n",
       "      <th>4632</th>\n",
       "      <td>1203.0</td>\n",
       "      <td>1196.0</td>\n",
       "      <td>676.0</td>\n",
       "      <td>177.0</td>\n",
       "      <td>673368.959</td>\n",
       "      <td>9371450.110</td>\n",
       "      <td>-1.666161</td>\n",
       "    </tr>\n",
       "    <tr>\n",
       "      <th>4633</th>\n",
       "      <td>1203.0</td>\n",
       "      <td>1196.0</td>\n",
       "      <td>676.0</td>\n",
       "      <td>177.0</td>\n",
       "      <td>673369.793</td>\n",
       "      <td>9371450.177</td>\n",
       "      <td>-1.766161</td>\n",
       "    </tr>\n",
       "  </tbody>\n",
       "</table>\n",
       "<p>4634 rows × 7 columns</p>\n",
       "</div>"
      ],
      "text/plain": [
       "       band1   band2  band3  band4           x            y          z\n",
       "0      740.0   507.0  309.0  189.0  673089.824  9371020.537 -10.644119\n",
       "1      725.0   520.0  296.0  200.0  673090.677  9371020.627 -10.654119\n",
       "2      740.0   507.0  309.0  189.0  673088.900  9371020.741 -10.684119\n",
       "3      725.0   520.0  296.0  200.0  673091.478  9371020.835 -10.314119\n",
       "4      725.0   520.0  296.0  200.0  673092.281  9371021.078  -8.904119\n",
       "...      ...     ...    ...    ...         ...          ...        ...\n",
       "4629  1188.0  1213.0  635.0  189.0  673371.323  9371449.837  -1.806161\n",
       "4630  1188.0  1230.0  727.0  187.0  673368.173  9371449.948  -1.606161\n",
       "4631  1154.0  1141.0  578.0  173.0  673370.582  9371450.079  -1.766161\n",
       "4632  1203.0  1196.0  676.0  177.0  673368.959  9371450.110  -1.666161\n",
       "4633  1203.0  1196.0  676.0  177.0  673369.793  9371450.177  -1.766161\n",
       "\n",
       "[4634 rows x 7 columns]"
      ]
     },
     "execution_count": 17,
     "metadata": {},
     "output_type": "execute_result"
    }
   ],
   "source": [
    "sample_bands_df = sample_bands_df[sample_bands_df['z'] >= depth_limit_b]\n",
    "sample_bands_df = sample_bands_df[sample_bands_df['z'] <= depth_limit_a]\n",
    "\n",
    "sample_bands_df"
   ]
  },
  {
   "cell_type": "markdown",
   "id": "6813f8b7-42ce-4634-aba8-2038b4f5e482",
   "metadata": {},
   "source": [
    "Separate features and label from sample data frame"
   ]
  },
  {
   "cell_type": "code",
   "execution_count": 18,
   "id": "df6cdd93-f60d-4938-8e7f-641223fc7348",
   "metadata": {},
   "outputs": [],
   "source": [
    "features_all = sample_bands_df.iloc[:, 0:-1] # take all column (including xy) except z as features\n",
    "z = sample_bands_df['z']"
   ]
  },
  {
   "cell_type": "markdown",
   "id": "9a1038b0-2ce9-45d9-8ea1-f59317a451cd",
   "metadata": {},
   "source": [
    "Split training (75%) and testing (25%) data"
   ]
  },
  {
   "cell_type": "code",
   "execution_count": 19,
   "id": "0aa50546-1535-40f9-98e3-5abe2c824346",
   "metadata": {},
   "outputs": [
    {
     "name": "stdout",
     "output_type": "stream",
     "text": [
      "\n",
      "\n",
      "features_all_train\n",
      "        band1   band2   band3  band4           x            y\n",
      "1290   986.0   806.0   331.0  187.0  673012.561  9371151.476\n",
      "3946  1358.0  1498.0  1067.0  253.0  673307.785  9371348.508\n",
      "324    921.0   862.0   498.0  195.0  673068.666  9371070.296\n",
      "4494  1096.0  1088.0   575.0  177.0  673406.403  9371416.676\n",
      "2257  1257.0  1337.0   927.0  204.0  673238.058  9371239.245\n",
      "...      ...     ...     ...    ...         ...          ...\n",
      "3335  1221.0  1211.0   594.0  192.0  673141.245  9371311.313\n",
      "1099   872.0   718.0   340.0  187.0  673146.741  9371138.227\n",
      "2514  1093.0  1123.0   670.0  181.0  673203.455  9371260.581\n",
      "3606  1278.0  1440.0  1112.0  264.0  673446.736  9371324.292\n",
      "2575  1232.0  1186.0   475.0  183.0  673148.683  9371265.730\n",
      "\n",
      "[3475 rows x 6 columns]\n",
      "\n",
      "\n",
      "features_all_test\n",
      "        band1   band2   band3  band4           x            y\n",
      "1063   854.0   645.0   314.0  193.0  673058.714  9371135.451\n",
      "3988  1358.0  1498.0  1067.0  253.0  673308.619  9371349.840\n",
      "4437  1364.0  1494.0  1134.0  284.0  673308.384  9371402.426\n",
      "603    896.0   721.0   326.0  189.0  673161.785  9371095.509\n",
      "2576  1137.0  1189.0   767.0  195.0  673210.942  9371266.049\n",
      "...      ...     ...     ...    ...         ...          ...\n",
      "838    897.0   690.0   330.0  197.0  673121.879  9371116.554\n",
      "3880  1254.0  1389.0  1072.0  294.0  673386.205  9371340.698\n",
      "4534  1025.0  1068.0   784.0  231.0  673337.675  9371428.495\n",
      "3651  1278.0  1440.0  1112.0  264.0  673445.753  9371326.123\n",
      "1576   886.0   670.0   324.0  182.0  673042.498  9371176.495\n",
      "\n",
      "[1159 rows x 6 columns]\n"
     ]
    }
   ],
   "source": [
    "features_all_train, features_all_test, z_train, z_test = train_test_split(\n",
    "    features_all,\n",
    "    z,\n",
    "    train_size=train_size,\n",
    "    random_state=random_state\n",
    ")\n",
    "print('\\n\\nfeatures_all_train\\n', features_all_train)\n",
    "print('\\n\\nfeatures_all_test\\n', features_all_test)"
   ]
  },
  {
   "cell_type": "markdown",
   "id": "180b7f7f-39be-4e48-b467-a63e95d4b912",
   "metadata": {},
   "source": [
    "Excluding xy coordinates from features"
   ]
  },
  {
   "cell_type": "code",
   "execution_count": 20,
   "id": "46f060aa-88cd-458a-b47f-d4da8980a156",
   "metadata": {},
   "outputs": [
    {
     "name": "stdout",
     "output_type": "stream",
     "text": [
      "\n",
      "\n",
      "features_train\n",
      "        band1   band2   band3  band4\n",
      "1290   986.0   806.0   331.0  187.0\n",
      "3946  1358.0  1498.0  1067.0  253.0\n",
      "324    921.0   862.0   498.0  195.0\n",
      "4494  1096.0  1088.0   575.0  177.0\n",
      "2257  1257.0  1337.0   927.0  204.0\n",
      "...      ...     ...     ...    ...\n",
      "3335  1221.0  1211.0   594.0  192.0\n",
      "1099   872.0   718.0   340.0  187.0\n",
      "2514  1093.0  1123.0   670.0  181.0\n",
      "3606  1278.0  1440.0  1112.0  264.0\n",
      "2575  1232.0  1186.0   475.0  183.0\n",
      "\n",
      "[3475 rows x 4 columns]\n",
      "\n",
      "\n",
      "features_test\n",
      "        band1   band2   band3  band4\n",
      "1063   854.0   645.0   314.0  193.0\n",
      "3988  1358.0  1498.0  1067.0  253.0\n",
      "4437  1364.0  1494.0  1134.0  284.0\n",
      "603    896.0   721.0   326.0  189.0\n",
      "2576  1137.0  1189.0   767.0  195.0\n",
      "...      ...     ...     ...    ...\n",
      "838    897.0   690.0   330.0  197.0\n",
      "3880  1254.0  1389.0  1072.0  294.0\n",
      "4534  1025.0  1068.0   784.0  231.0\n",
      "3651  1278.0  1440.0  1112.0  264.0\n",
      "1576   886.0   670.0   324.0  182.0\n",
      "\n",
      "[1159 rows x 4 columns]\n",
      "\n",
      "\n",
      "z_train\n",
      " 1290   -5.792304\n",
      "3946   -1.123054\n",
      "324    -2.317191\n",
      "4494   -2.093054\n",
      "2257   -0.817357\n",
      "          ...   \n",
      "3335   -1.693953\n",
      "1099   -3.037191\n",
      "2514   -1.006773\n",
      "3606   -1.014126\n",
      "2575   -2.569245\n",
      "Name: z, Length: 3475, dtype: float64\n"
     ]
    }
   ],
   "source": [
    "features_train = features_all_train.iloc[:, 0:-2]\n",
    "features_test = features_all_test.iloc[:, 0:-2]\n",
    "print('\\n\\nfeatures_train\\n', features_train)\n",
    "print('\\n\\nfeatures_test\\n', features_test)\n",
    "print('\\n\\nz_train\\n', z_train)"
   ]
  },
  {
   "cell_type": "markdown",
   "id": "d9133d43-c7e1-4b75-b08f-be0479e4c7db",
   "metadata": {
    "tags": []
   },
   "source": [
    "## Predicting depth using `Scikit Learn`"
   ]
  },
  {
   "cell_type": "markdown",
   "id": "6964238d-fc4c-4d4c-8559-b851bad1090b",
   "metadata": {},
   "source": [
    "Create regressor using Random Forest"
   ]
  },
  {
   "cell_type": "code",
   "execution_count": 21,
   "id": "59a1157a-3c0c-47b2-bf2b-0d9929efa302",
   "metadata": {},
   "outputs": [],
   "source": [
    "regressor = RandomForestRegressor(\n",
    "    n_estimators=n_tree, # number of trees\n",
    "    criterion='mse', # mean squared error\n",
    "    bootstrap=True,\n",
    "    random_state=0\n",
    ")"
   ]
  },
  {
   "cell_type": "markdown",
   "id": "7356fb04-aead-4753-95ac-6888be884873",
   "metadata": {},
   "source": [
    "Calculate depth prediction inside image area, then validate prediction by predicting depth in the position of 25% sample data and calculate the RMSE."
   ]
  },
  {
   "cell_type": "code",
   "execution_count": 22,
   "id": "cb2b04ea-b39f-4019-9231-72446c54a720",
   "metadata": {},
   "outputs": [
    {
     "name": "stdout",
     "output_type": "stream",
     "text": [
      "\n",
      "RMSE:  0.30844271546782753\n"
     ]
    }
   ],
   "source": [
    "with parallel_backend('threading', n_jobs=n_jobs):\n",
    "    regressor.fit(features_train, z_train)\n",
    "    z_predict = regressor.predict(bands_array)\n",
    "    z_validate = regressor.predict(features_test)\n",
    "\n",
    "    rmse = np.sqrt(metrics.mean_squared_error(z_test, z_validate))\n",
    "\n",
    "print('\\nRMSE: ', rmse)"
   ]
  },
  {
   "cell_type": "markdown",
   "id": "eb362bcf-d212-4182-a592-9dce2de277bb",
   "metadata": {
    "tags": []
   },
   "source": [
    "## Prepare and create output data"
   ]
  },
  {
   "cell_type": "markdown",
   "id": "54973976-2f3d-48a9-9df3-0038a0c265b5",
   "metadata": {
    "tags": []
   },
   "source": [
    "Filter depth prediction based on the depth limit and replace out of limit value into NaN"
   ]
  },
  {
   "cell_type": "code",
   "execution_count": 23,
   "id": "61fb489b-db88-48dc-b4a7-136cbf4fd73e",
   "metadata": {
    "tags": []
   },
   "outputs": [],
   "source": [
    "z_predict[z_predict < depth_limit_b] = np.nan\n",
    "z_predict[z_predict > depth_limit_a] = np.nan"
   ]
  },
  {
   "cell_type": "markdown",
   "id": "dedc20cc-59e1-451e-a8f6-301563dab7d1",
   "metadata": {},
   "source": [
    "Create array of predicted depth in the shape of original image"
   ]
  },
  {
   "cell_type": "code",
   "execution_count": 24,
   "id": "6cc84c45-2c59-4cf2-be17-59b25f836bcd",
   "metadata": {},
   "outputs": [
    {
     "name": "stdout",
     "output_type": "stream",
     "text": [
      "new_img_array\n",
      " [[-9.67063094 -9.67063094 -9.74660051 ... -9.67063094 -9.67063094\n",
      "  -9.67063094]\n",
      " [-9.67063094 -9.67063094 -9.67063094 ... -9.67063094 -9.74660051\n",
      "  -9.67063094]\n",
      " [-9.67063094 -9.74660051 -9.67063094 ... -9.67063094 -9.67063094\n",
      "  -9.67063094]\n",
      " ...\n",
      " [-9.7983119  -9.7983119  -9.7983119  ... -9.67063094 -9.67063094\n",
      "  -9.67063094]\n",
      " [-9.67063094 -9.81038555 -9.73599884 ... -9.67063094 -9.67063094\n",
      "  -9.67063094]\n",
      " [-9.73599884 -9.73599884 -9.73599884 ... -9.67063094 -9.67063094\n",
      "  -9.67063094]] \n",
      " (192, 344)\n"
     ]
    }
   ],
   "source": [
    "new_img_array = z_predict.reshape(img.height, img.width)\n",
    "print('new_img_array\\n', new_img_array, '\\n', new_img_array.shape)"
   ]
  },
  {
   "cell_type": "markdown",
   "id": "8aad9b06-0847-4c74-a886-ac49245c6ce5",
   "metadata": {},
   "source": [
    "Filter predicted depth array using median filter to clean pepper and salt noise. Bigger filter size will make smoother output."
   ]
  },
  {
   "cell_type": "code",
   "execution_count": 25,
   "id": "c4d046c9-3e34-4cd7-8e4b-e5de209d0ff6",
   "metadata": {},
   "outputs": [
    {
     "name": "stdout",
     "output_type": "stream",
     "text": [
      "new_img_array\n",
      " [[-9.67063094 -9.67063094 -9.67063094 ... -9.67063094 -9.67063094\n",
      "  -9.67063094]\n",
      " [-9.67063094 -9.67063094 -9.67063094 ... -9.67063094 -9.67063094\n",
      "  -9.67063094]\n",
      " [-9.67063094 -9.67063094 -9.67063094 ... -9.67063094 -9.67063094\n",
      "  -9.67063094]\n",
      " ...\n",
      " [-9.7983119  -9.7983119  -9.7983119  ... -9.67063094 -9.67063094\n",
      "  -9.67063094]\n",
      " [-9.73599884 -9.73599884 -9.7983119  ... -9.67063094 -9.67063094\n",
      "  -9.67063094]\n",
      " [-9.73599884 -9.73599884 -9.73599884 ... -9.67063094 -9.67063094\n",
      "  -9.67063094]] \n",
      " (192, 344)\n"
     ]
    }
   ],
   "source": [
    "new_img_array = ndimage.median_filter(new_img_array, size=median_filter_size)\n",
    "print('new_img_array\\n', new_img_array, '\\n', new_img_array.shape)"
   ]
  },
  {
   "cell_type": "markdown",
   "id": "746e31f7-3822-407c-af5e-2ef257483499",
   "metadata": {},
   "source": [
    "Save predicted and filtered array as DEM in GeoTiff format"
   ]
  },
  {
   "cell_type": "code",
   "execution_count": 26,
   "id": "1c86d5a6-35d0-4b57-99cf-46e7e7222aea",
   "metadata": {},
   "outputs": [],
   "source": [
    "new_img = rio.open(\n",
    "    new_img_loc, \n",
    "    'w',\n",
    "    driver='GTiff', # GDAL image output driver\n",
    "    height=img.height,\n",
    "    width=img.width,\n",
    "    count=1,\n",
    "    dtype=new_img_array.dtype, # array type of predicted depth array\n",
    "    crs=img.crs,\n",
    "    transform=img.transform\n",
    ")\n",
    "\n",
    "new_img.write(new_img_array, 1)\n",
    "new_img.close()"
   ]
  },
  {
   "cell_type": "markdown",
   "id": "e1b85a08-5eda-4525-8bb5-0777ed93d681",
   "metadata": {},
   "source": [
    "Create data frame of splitted `75:25` train and test data"
   ]
  },
  {
   "cell_type": "code",
   "execution_count": 27,
   "id": "7cc4072a-0f4c-440a-aab1-de6e7c9ae54c",
   "metadata": {},
   "outputs": [],
   "source": [
    "train_data = pd.concat([features_all_train, z_train], axis=1)\n",
    "test_data = pd.concat([features_all_test, z_test], axis=1)\n",
    "test_data = test_data.reset_index(drop=True)\n",
    "z_validate_df = pd.DataFrame({'z_validate': z_validate})\n",
    "test_data = pd.concat([test_data, z_validate_df], axis=1)"
   ]
  },
  {
   "cell_type": "markdown",
   "id": "62bffbcb-1db3-48b6-a30d-3a210b96b0cc",
   "metadata": {},
   "source": [
    "Create file output path name for CSV files"
   ]
  },
  {
   "cell_type": "code",
   "execution_count": 28,
   "id": "3bf78782-7a56-4ffd-bd2e-68e63a5ab55c",
   "metadata": {},
   "outputs": [],
   "source": [
    "train_save_loc_csv = (os.path.splitext(new_img_loc)[0] + '_train.csv')\n",
    "test_save_loc_csv = (os.path.splitext(new_img_loc)[0] + '_test.csv')"
   ]
  },
  {
   "cell_type": "markdown",
   "id": "21fdb9fd-3213-4c52-8057-e779cb92cf1d",
   "metadata": {},
   "source": [
    "Saving train and test data into CSV format"
   ]
  },
  {
   "cell_type": "code",
   "execution_count": 29,
   "id": "5d3886bb-4e08-4723-a1bd-1cdf0d578213",
   "metadata": {},
   "outputs": [],
   "source": [
    "train_data.to_csv(train_save_loc_csv, index=False)\n",
    "test_data.to_csv(test_save_loc_csv, index=False)"
   ]
  },
  {
   "cell_type": "markdown",
   "id": "770e66e7-af6b-41f2-a24b-6fa9fffe5c47",
   "metadata": {},
   "source": [
    "Create geo data frame from data frame"
   ]
  },
  {
   "cell_type": "code",
   "execution_count": 30,
   "id": "b69cdb6c-c07e-4024-bb8a-d9cc8958f48e",
   "metadata": {},
   "outputs": [],
   "source": [
    "train_data_gdf = gpd.GeoDataFrame(\n",
    "    train_data,\n",
    "    geometry=gpd.points_from_xy(train_data.x, train_data.y, train_data.z),\n",
    "    crs=shp_reproj.crs\n",
    ")\n",
    "test_data_gdf = gpd.GeoDataFrame(\n",
    "    test_data,\n",
    "    geometry=gpd.points_from_xy(test_data.x, test_data.y, test_data.z),\n",
    "    crs=shp_reproj.crs\n",
    ")"
   ]
  },
  {
   "cell_type": "markdown",
   "id": "16d2e7c1-a94b-4b20-a7c5-5d94d8946f17",
   "metadata": {},
   "source": [
    "Create file output path name for ESRI Shapefile"
   ]
  },
  {
   "cell_type": "code",
   "execution_count": 31,
   "id": "65c94b17-4cc5-4e1e-a285-efae669f453d",
   "metadata": {},
   "outputs": [],
   "source": [
    "train_save_loc_shp = (os.path.splitext(new_img_loc)[0] + '_train.shp')\n",
    "test_save_loc_shp = (os.path.splitext(new_img_loc)[0] + '_test.shp')"
   ]
  },
  {
   "cell_type": "markdown",
   "id": "fd882502-2dba-437b-acfd-97f3cc1d7860",
   "metadata": {},
   "source": [
    "Saving train and test data into ESRI Shapefile format"
   ]
  },
  {
   "cell_type": "code",
   "execution_count": 32,
   "id": "3f41889b-734f-4baf-b690-7e3997faad8b",
   "metadata": {},
   "outputs": [],
   "source": [
    "train_data_gdf.to_file(train_save_loc_shp)\n",
    "test_data_gdf.to_file(test_save_loc_shp)"
   ]
  },
  {
   "cell_type": "markdown",
   "id": "fa1d8dc6",
   "metadata": {},
   "source": [
    "Create file output path name for scatter plot"
   ]
  },
  {
   "cell_type": "code",
   "execution_count": 33,
   "id": "2e7a4d64",
   "metadata": {},
   "outputs": [],
   "source": [
    "scatter_plot_loc = (os.path.splitext(new_img_loc)[0] + 'scatter_plot.png')"
   ]
  },
  {
   "cell_type": "markdown",
   "id": "57abbc8a",
   "metadata": {},
   "source": [
    "Create scatter plot using `matplotlib`"
   ]
  },
  {
   "cell_type": "code",
   "execution_count": 34,
   "id": "b4368289",
   "metadata": {},
   "outputs": [
    {
     "data": {
      "image/png": "[encoded data removed]",
      "text/plain": [
       "<Figure size 360x360 with 1 Axes>"
      ]
     },
     "metadata": {
      "needs_background": "light"
     },
     "output_type": "display_data"
    }
   ],
   "source": [
    "def scatter_plotter(x, y, plot_color='royalblue', line_color='r', title='Scatter Plot'):\n",
    "    fig, ax = plt.subplots(figsize=(5, 5))\n",
    "    ax.scatter(x, y, marker='.', color=plot_color, facecolors='none')\n",
    "    min_val, max_val = round(np.nanmin(x)), round(np.nanmax(x))\n",
    "    ax.plot([min_val, max_val], [min_val, max_val], color=line_color)\n",
    "    ax.set_xlabel('True Depth')\n",
    "    ax.set_ylabel('Predicted Depth')\n",
    "    ax.set_title(title)\n",
    "\n",
    "    return fig, ax\n",
    "\n",
    "fig, ax = scatter_plotter(\n",
    "    x=test_data['z'],\n",
    "    y=test_data['z_validate']\n",
    ")\n",
    "\n",
    "fig.savefig(scatter_plot_loc)"
   ]
  }
 ],
 "metadata": {
  "kernelspec": {
   "display_name": "Python 3",
   "language": "python",
   "name": "python3"
  },
  "language_info": {
   "codemirror_mode": {
    "name": "ipython",
    "version": 3
   },
   "file_extension": ".py",
   "mimetype": "text/x-python",
   "name": "python",
   "nbconvert_exporter": "python",
   "pygments_lexer": "ipython3",
   "version": "3.6.12"
  }
 },
 "nbformat": 4,
 "nbformat_minor": 5
}
