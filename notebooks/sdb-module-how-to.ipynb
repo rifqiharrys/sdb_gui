{
 "cells": [
  {
   "cell_type": "markdown",
   "metadata": {},
   "source": [
    "# SDB Module\n",
    "\n",
    "## Preface\n",
    "\n",
    "This is a note of how to use SDB module available in [sdb_gui](https://github.com/rifqiharrys/sdb_gui).\n",
    "\n",
    "## Setup and Preparation\n",
    "\n",
    "### SDB GUI source code download\n",
    "\n",
    "Download the source code from [sdb_gui](https://github.com/rifqiharrys/sdb_gui) and extract it to your local drive.\n",
    "\n",
    "### Python and packages installation\n",
    "\n",
    "There are many ways to install them, but I prefer using [Miniconda](https://docs.anaconda.com/miniconda/) because of its little installation size. You could refer to https://docs.anaconda.com/miniconda/install/ on how to install miniconda. After conda was installed, open anaconda prompt and create new environment using conda create below. If you read the [README.md](https://github.com/rifqiharrys/sdb_gui/blob/main/README.md) and follow its installation instructions, you could skip this process and continue to install Jupyter Lab.\n",
    "\n",
    "```bash\n",
    "    # Replace <ENV_NAME> with a name for your environment\n",
    "    conda create --name <ENV_NAME>\n",
    "```\n",
    "Then activate your new environment and install python 3.12 and the packages. But, to ensure that the packages installed are the latest version, install them from conda forge. To ensure the packages are installed from conda forge, add conda forge as priority channel.\n",
    "\n",
    "```bash\n",
    "    conda config --add channels conda-forge\n",
    "```\n",
    "Then activate your new environment and install python 3.12 and the packages by typing prompts below.\n",
    "```bash\n",
    "    conda activate <ENV_NAME>\n",
    "    conda install python=3.12 numpy scipy pandas xarray rioxarray geopandas scikit-learn matplotlib\n",
    "```\n",
    "\n",
    "In order to run this notebook, you need Jupyter Lab or Jupyter Notebook. In this case, I use Jupyter Lab and to install it in conda, type prompts below.\n",
    "```bash\n",
    "    conda install jupyterlab\n",
    "```\n",
    "\n",
    "Now that the software preparation is complete, you could open this notebook using browser or using VS Code or another tools of your choice.\n",
    "\n",
    "### Import"
   ]
  },
  {
   "cell_type": "code",
   "execution_count": null,
   "metadata": {},
   "outputs": [],
   "source": [
    "# Add sdb module to path if you're using the source code\n",
    "import sys\n",
    "sys.path.append('../')"
   ]
  },
  {
   "cell_type": "code",
   "execution_count": null,
   "metadata": {},
   "outputs": [],
   "source": [
    "# Import sdb module\n",
    "import sdb"
   ]
  },
  {
   "cell_type": "markdown",
   "metadata": {},
   "source": [
    "### Dataset Information\n",
    "Prepare your satellite image data and depth sample in a directory and another directory (or not) for the output data. Insert the necessary data information for processing purposes. There are six data identification that is important to the processing. Those are image filename, depth sample filename, depth header name, depth data direction whether it is positive up or down, and header name to differentiate between train and test data and its group name (if any). Type in those values into a suitable key in the dictionary. \n",
    "\n",
    "If you have another dataset you want to test, create another dictionary with the same structure and you can easily change between those datasets. It is for this reason that I create a function to administer file location names for input and output and another file tied identification and return it to a dictionary which contain all the necessary information."
   ]
  },
  {
   "cell_type": "code",
   "execution_count": null,
   "metadata": {},
   "outputs": [],
   "source": [
    "# Input and output directory\n",
    "dir_in = 'input/'\n",
    "dir_out = 'output/'\n",
    "\n",
    "## File information dictionary\n",
    "# Pulau Karang Bongkok & Pulau Semak Daun\n",
    "file_1 = {\n",
    "    'img': 'image.tif',\n",
    "    'sample': 'depth_sample.shp',\n",
    "    'depth_header': 'Z_Koreksi',\n",
    "    'depth_direction': 'down', # positive down\n",
    "    'train_header': 'note',\n",
    "    'train_group': 'train'\n",
    "}\n",
    "\n",
    "# Kalimantan Selatan (Pulau Laut)\n",
    "file_2 = {\n",
    "    'img': 'kalsel_mosaic_band_stack_raster_crop_2.tif',\n",
    "    'sample': 'Kalsel_Merge_Pasut.shp',\n",
    "    'depth_header': 'MSL',\n",
    "    'depth_direction': 'up', # positive up\n",
    "    'train_header': 'Note',\n",
    "    'train_group': 'train'\n",
    "}\n",
    "\n",
    "# Morotai\n",
    "file_3 = {\n",
    "    'img': 'sentinel_morotai_4_bands.tif',\n",
    "    'sample': 'sbes_morotai_sdb.shp',\n",
    "    'depth_header': 'MSL', # belum dilihat\n",
    "    'depth_direction': 'down', # positive up\n",
    "    'train_header': 'Note',\n",
    "    'train_group': 'train'\n",
    "}\n",
    "\n",
    "def input_metadata(location_dict:dict, input_dir:str, output_dir:str):\n",
    "    \"\"\"\n",
    "    Function to insert all necessary data input metadata based on dictionary structure above.\n",
    "    This returns to metadata dictionary that will be used in the main script.\n",
    "    \"\"\"\n",
    "\n",
    "    import pprint\n",
    "\n",
    "    image_location = input_dir + location_dict['img']\n",
    "    sample_location = input_dir + location_dict['sample']\n",
    "    new_image_location = output_dir + 'DEM_' + location_dict['img']\n",
    "    depth_header = location_dict['depth_header']\n",
    "    train_header = location_dict['train_header']\n",
    "    train_group = location_dict['train_group']\n",
    "    depth_direction = location_dict['depth_direction']\n",
    "\n",
    "    metadata_dict = {\n",
    "        'image_location': image_location,\n",
    "        'sample_location': sample_location,\n",
    "        'new_image_location': new_image_location,\n",
    "        'depth_header': depth_header,\n",
    "        'depth_direction': depth_direction,\n",
    "        'train_header': train_header,\n",
    "        'train_group': train_group\n",
    "    }\n",
    "\n",
    "    pprint.pp(metadata_dict)\n",
    "\n",
    "    return metadata_dict\n",
    "\n",
    "# Insert metadata dictionary here\n",
    "input_dict = input_metadata(file_1, dir_in, dir_out) # Change dict name to change input dataset"
   ]
  },
  {
   "cell_type": "markdown",
   "metadata": {},
   "source": [
    "## Processing\n",
    "\n",
    "### Read Data"
   ]
  },
  {
   "cell_type": "code",
   "execution_count": null,
   "metadata": {},
   "outputs": [],
   "source": [
    "# Read geotiff\n",
    "image = sdb.read_geotiff(input_dict['image_location'])\n",
    "image"
   ]
  },
  {
   "cell_type": "code",
   "execution_count": null,
   "metadata": {},
   "outputs": [],
   "source": [
    "# Read shapefile\n",
    "sample = sdb.read_shapefile(input_dict['sample_location'])\n",
    "sample"
   ]
  }
 ],
 "metadata": {
  "kernelspec": {
   "display_name": "py3_12",
   "language": "python",
   "name": "python3"
  },
  "language_info": {
   "codemirror_mode": {
    "name": "ipython",
    "version": 3
   },
   "file_extension": ".py",
   "mimetype": "text/x-python",
   "name": "python",
   "nbconvert_exporter": "python",
   "pygments_lexer": "ipython3",
   "version": "3.12.8"
  }
 },
 "nbformat": 4,
 "nbformat_minor": 2
}
