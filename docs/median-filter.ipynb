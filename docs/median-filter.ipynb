{
 "cells": [
  {
   "cell_type": "markdown",
   "id": "2418ae86",
   "metadata": {},
   "source": [
    "# Median Filter DEM Data\n",
    "\n",
    "Apply median filter to Digital Elevation Model data"
   ]
  },
  {
   "cell_type": "markdown",
   "id": "53564f17",
   "metadata": {},
   "source": [
    "## Setup\n",
    "\n",
    "Import libraries and add sdb module path"
   ]
  },
  {
   "cell_type": "code",
   "execution_count": null,
   "id": "0efbbb4c",
   "metadata": {},
   "outputs": [],
   "source": [
    "import sys\n",
    "from pathlib import Path\n",
    "\n",
    "# insert the path to sdb module\n",
    "sys.path.append('../')"
   ]
  },
  {
   "cell_type": "code",
   "execution_count": null,
   "id": "2ae5ca03",
   "metadata": {},
   "outputs": [],
   "source": [
    "import sdb"
   ]
  },
  {
   "cell_type": "markdown",
   "id": "dd5113be",
   "metadata": {},
   "source": [
    "Insert path to working directory and the filename"
   ]
  },
  {
   "cell_type": "code",
   "execution_count": null,
   "id": "3678356d",
   "metadata": {},
   "outputs": [],
   "source": [
    "directory = Path(r'D:\\insert\\path\\to\\the\\directory')  # insert the directory path here\n",
    "filename = 'insert_filename.tif'  # insert the file name here"
   ]
  },
  {
   "cell_type": "markdown",
   "id": "88971f25",
   "metadata": {},
   "source": [
    "## Read data"
   ]
  },
  {
   "cell_type": "code",
   "execution_count": null,
   "id": "f06069c7",
   "metadata": {},
   "outputs": [],
   "source": [
    "img = sdb.read_geotiff(str(directory / filename))\n",
    "img"
   ]
  },
  {
   "cell_type": "markdown",
   "id": "17773976",
   "metadata": {},
   "source": [
    "## Median filter\n",
    "\n",
    "Apply median filter and then change the array product to dataarray"
   ]
  },
  {
   "cell_type": "code",
   "execution_count": null,
   "id": "df735c16",
   "metadata": {},
   "outputs": [],
   "source": [
    "filter_size = 3  # you can change the filter size here\n",
    "\n",
    "median_filtered_array = sdb.median_filter(\n",
    "    img.values[0],  # assuming single band image,\n",
    "    filter_size=filter_size\n",
    ")\n",
    "\n",
    "median_filtered_img = sdb.array_to_dataarray(\n",
    "    median_filtered_array,\n",
    "    data_array=img\n",
    ")\n",
    "median_filtered_img"
   ]
  },
  {
   "cell_type": "markdown",
   "id": "ec856553",
   "metadata": {},
   "source": [
    "## Export data\n",
    "\n",
    "Write data the median filtered data to a geotiff file"
   ]
  },
  {
   "cell_type": "code",
   "execution_count": null,
   "id": "6df4e4d4",
   "metadata": {},
   "outputs": [],
   "source": [
    "sdb.write_geotiff(\n",
    "    median_filtered_img,\n",
    "    str(directory / f'median_filtered_{filter_size}_{filename}')\n",
    ")"
   ]
  }
 ],
 "metadata": {
  "kernelspec": {
   "display_name": "py3_12",
   "language": "python",
   "name": "python3"
  },
  "language_info": {
   "name": "python",
   "version": "3.12.8"
  }
 },
 "nbformat": 4,
 "nbformat_minor": 5
}
